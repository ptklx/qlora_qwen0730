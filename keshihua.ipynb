{
 "cells": [
  {
   "cell_type": "code",
   "execution_count": 2,
   "metadata": {},
   "outputs": [],
   "source": [
    "import os\n",
    "import matplotlib.pyplot as plt\n",
    "import pandas as pd\n",
    "\n",
    "# 总文件夹路径，其中包含各个领域的子文件夹\n",
    "root_folder_path = '/data3/zhouqiang/LLM_scratch/dataset/COIG-CQIA'\n",
    "\n",
    "# 获取所有领域文件夹\n",
    "domains = [d for d in os.listdir(root_folder_path) if os.path.isdir(os.path.join(root_folder_path, d))]\n",
    "domain_counts = []\n",
    "\n",
    "# 遍历每个领域文件夹，计算JSON文件数量\n",
    "for domain in domains:\n",
    "    domain_path = os.path.join(root_folder_path, domain)\n",
    "    json_files = [f for f in os.listdir(domain_path) if f.endswith('.jsonl')]\n",
    "    domain_counts.append(len(json_files))\n",
    "\n",
    "# 创建DataFrame\n",
    "df = pd.DataFrame({\n",
    "    'Domain': domains,\n",
    "    'Counts': domain_counts\n",
    "})\n",
    "\n",
    "# 创建输出文件夹保存图像\n",
    "output_folder = '/data3/zhouqiang/LLM_scratch/dataset/output_images'\n",
    "if not os.path.exists(output_folder):\n",
    "    os.makedirs(output_folder)\n",
    "\n",
    "# 绘制并保存条形图\n",
    "for i, row in df.iterrows():\n",
    "    plt.figure()  # 创建新的图形\n",
    "    plt.bar(row['Domain'], row['Counts'], color='skyblue')\n",
    "    plt.title(f'Number of JSON Files in {row[\"Domain\"]}')\n",
    "    plt.xlabel('Domain')\n",
    "    plt.ylabel('Number of JSON Files')\n",
    "    plt.xticks(rotation=45)\n",
    "    plt.tight_layout()  # 调整布局以避免标签重叠\n",
    "\n",
    "    # 图像保存路径\n",
    "    file_path = os.path.join(output_folder, f'{row[\"Domain\"]}.jpg')\n",
    "    plt.savefig(file_path)\n",
    "    plt.close()  # 关闭图形，避免内存泄漏\n"
   ]
  }
 ],
 "metadata": {
  "kernelspec": {
   "display_name": "Llama2_Chinese",
   "language": "python",
   "name": "python3"
  },
  "language_info": {
   "codemirror_mode": {
    "name": "ipython",
    "version": 3
   },
   "file_extension": ".py",
   "mimetype": "text/x-python",
   "name": "python",
   "nbconvert_exporter": "python",
   "pygments_lexer": "ipython3",
   "version": "3.8.18"
  }
 },
 "nbformat": 4,
 "nbformat_minor": 2
}

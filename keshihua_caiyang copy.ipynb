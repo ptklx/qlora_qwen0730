{
 "cells": [
  {
   "cell_type": "code",
   "execution_count": 5,
   "metadata": {},
   "outputs": [
    {
     "name": "stdout",
     "output_type": "stream",
     "text": [
      "Total lines before sampling: 25247\n",
      "Total lines after sampling: 248\n",
      "Sampling completed and combined data is stored in: /data3/zhouqiang/LLM_scratch/dataset/combined_sampled_data.jsonl\n"
     ]
    }
   ],
   "source": [
    "import os\n",
    "import random\n",
    "\n",
    "# 设置采样比率\n",
    "sample_rate = 0.05  # 10%的采样比率\n",
    "\n",
    "# 总文件夹路径，其中包含各个领域的子文件夹\n",
    "root_folder_path = '/data3/zhouqiang/LLM_scratch/dataset/COIG-CQIA'\n",
    "total_data_count = 0\n",
    "\n",
    "# 计算整个数据集的数据总量\n",
    "file_line_counts = []\n",
    "for domain in os.listdir(root_folder_path):\n",
    "    domain_path = os.path.join(root_folder_path, domain)\n",
    "    if os.path.isdir(domain_path):\n",
    "        jsonl_files = [f for f in os.listdir(domain_path) if f.endswith('.jsonl')]\n",
    "        for jsonl_file in jsonl_files:\n",
    "            file_path = os.path.join(domain_path, jsonl_file)\n",
    "            with open(file_path, 'r', encoding='utf-8') as file:\n",
    "                lines = file.readlines()\n",
    "                total_data_count += len(lines)\n",
    "                file_line_counts.append((file_path, lines))\n",
    "\n",
    "# 打印总行数\n",
    "print(\"Total lines before sampling:\", total_data_count)\n",
    "\n",
    "# 新JSONL文件的路径\n",
    "output_file_path = '/data3/zhouqiang/LLM_scratch/dataset/combined_sampled_data.jsonl'\n",
    "os.makedirs(os.path.dirname(output_file_path), exist_ok=True)\n",
    "\n",
    "sampled_total_count = 0  # 采样后的总行数\n",
    "\n",
    "# 按固定比例采样并合并到一个新文件\n",
    "with open(output_file_path, 'w', encoding='utf-8') as output_file:\n",
    "    for file_path, lines in file_line_counts:\n",
    "        sampled_lines = random.sample(lines, max(1, int(len(lines) * sample_rate)))  # 确保至少采样1行\n",
    "        sampled_total_count += len(sampled_lines)\n",
    "        output_file.writelines(sampled_lines)\n",
    "\n",
    "# 打印采样后总行数\n",
    "print(\"Total lines after sampling:\", sampled_total_count)\n",
    "\n",
    "print(f\"Sampling completed and combined data is stored in: {output_file_path}\")\n"
   ]
  }
 ],
 "metadata": {
  "kernelspec": {
   "display_name": "Llama2_Chinese",
   "language": "python",
   "name": "python3"
  },
  "language_info": {
   "codemirror_mode": {
    "name": "ipython",
    "version": 3
   },
   "file_extension": ".py",
   "mimetype": "text/x-python",
   "name": "python",
   "nbconvert_exporter": "python",
   "pygments_lexer": "ipython3",
   "version": "3.8.18"
  }
 },
 "nbformat": 4,
 "nbformat_minor": 2
}

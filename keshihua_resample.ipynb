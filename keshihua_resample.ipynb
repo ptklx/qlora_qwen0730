{
 "cells": [
  {
   "cell_type": "code",
   "execution_count": 4,
   "metadata": {},
   "outputs": [
    {
     "name": "stdout",
     "output_type": "stream",
     "text": [
      "No data to sample in domain: .git\n",
      "Inverse sampling completed and combined data is stored in: /data3/zhouqiang/LLM_scratch/dataset/inverse_sampled_data.jsonl\n"
     ]
    }
   ],
   "source": [
    "import os\n",
    "import random\n",
    "\n",
    "# 设置调整因子 k，根据实际数据调整这个值\n",
    "k = 500  # 需要根据数据的规模和分布进行调整\n",
    "\n",
    "# 总文件夹路径，其中包含各个领域的子文件夹\n",
    "root_folder_path = '/data3/zhouqiang/LLM_scratch/dataset/COIG-CQIA'\n",
    "domain_data_counts = {}\n",
    "total_data_count = 0\n",
    "\n",
    "# 计算每个领域的数据总量\n",
    "for domain in os.listdir(root_folder_path):\n",
    "    domain_path = os.path.join(root_folder_path, domain)\n",
    "    if os.path.isdir(domain_path):\n",
    "        jsonl_files = [f for f in os.listdir(domain_path) if f.endswith('.jsonl')]\n",
    "        domain_total = 0\n",
    "        for jsonl_file in jsonl_files:\n",
    "            file_path = os.path.join(domain_path, jsonl_file)\n",
    "            with open(file_path, 'r', encoding='utf-8') as file:\n",
    "                lines_count = sum(1 for line in file)\n",
    "                domain_total += lines_count\n",
    "        domain_data_counts[domain] = domain_total\n",
    "        total_data_count += domain_total\n",
    "\n",
    "# 新JSONL文件的路径\n",
    "output_file_path = '/data3/zhouqiang/LLM_scratch/dataset/inverse_sampled_data.jsonl'\n",
    "os.makedirs(os.path.dirname(output_file_path), exist_ok=True)\n",
    "\n",
    "# 按逆比例采样并合并到一个新文件\n",
    "with open(output_file_path, 'w', encoding='utf-8') as output_file:\n",
    "    for domain, count in domain_data_counts.items():\n",
    "        if count > 0:  # 检查以避免除以零\n",
    "            sample_rate = k / count  # 计算逆比例采样率\n",
    "            sample_rate = min(sample_rate, 1)  # 保证采样率不超过100%\n",
    "            domain_path = os.path.join(root_folder_path, domain)\n",
    "            jsonl_files = [f for f in os.listdir(domain_path) if f.endswith('.jsonl')]\n",
    "            for jsonl_file in jsonl_files:\n",
    "                file_path = os.path.join(domain_path, jsonl_file)\n",
    "                with open(file_path, 'r', encoding='utf-8') as file:\n",
    "                    lines = file.readlines()\n",
    "                    sampled_lines = random.sample(lines, max(1, int(len(lines) * sample_rate)))\n",
    "                    output_file.writelines(sampled_lines)\n",
    "        else:\n",
    "            print(f\"No data to sample in domain: {domain}\")\n",
    "\n",
    "print(f\"Inverse sampling completed and combined data is stored in: {output_file_path}\")\n"
   ]
  }
 ],
 "metadata": {
  "kernelspec": {
   "display_name": "Llama2_Chinese",
   "language": "python",
   "name": "python3"
  },
  "language_info": {
   "codemirror_mode": {
    "name": "ipython",
    "version": 3
   },
   "file_extension": ".py",
   "mimetype": "text/x-python",
   "name": "python",
   "nbconvert_exporter": "python",
   "pygments_lexer": "ipython3",
   "version": "3.8.18"
  }
 },
 "nbformat": 4,
 "nbformat_minor": 2
}
